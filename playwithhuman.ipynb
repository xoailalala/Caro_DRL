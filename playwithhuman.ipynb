{
  "nbformat": 4,
  "nbformat_minor": 0,
  "metadata": {
    "colab": {
      "provenance": []
    },
    "kernelspec": {
      "name": "python3",
      "display_name": "Python 3"
    },
    "language_info": {
      "name": "python"
    }
  },
  "cells": [
    {
      "cell_type": "code",
      "execution_count": null,
      "metadata": {
        "id": "4DXtX-vx4QLr"
      },
      "outputs": [],
      "source": [
        "from caro_env import CaroEnv\n",
        "\n",
        "def play_against_agent(agent, agent_type, env):\n",
        "    print(\"\\n🎮 Chơi Caro với AI!\")\n",
        "    print(\"Nhập tọa độ (x y) từ 0 đến 4, ví dụ: '2 3'. Nhập 'quit' để thoát.\")\n",
        "    env.verbose = True\n",
        "    while True:\n",
        "        state = env.reset()\n",
        "        env.render(clear_screen=True)\n",
        "        for _ in range(env.max_steps):\n",
        "            if env.current_player == 1:  # AI's turn\n",
        "                if agent_type == 'DQN':\n",
        "                    action = agent.act(state, epsilon=0, valid_actions=env.get_valid_actions())\n",
        "                else:\n",
        "                    action, _ = agent.act(state, valid_actions=env.get_valid_actions())\n",
        "                state, reward, done, _ = env.step(action)\n",
        "                env.render(clear_screen=True)\n",
        "                if done:\n",
        "                    if reward > 0:\n",
        "                        print(\"AI thắng!\")\n",
        "                    elif reward < 0:\n",
        "                        print(\"Bạn thắng!\")\n",
        "                    else:\n",
        "                        print(\"Hòa!\")\n",
        "                    break\n",
        "            else:  # Human's turn\n",
        "                valid_move = False\n",
        "                while not valid_move:\n",
        "                    move = input(\"Lượt của bạn (x y hoặc 'quit'): \")\n",
        "                    if move.lower() == 'quit':\n",
        "                        print(\"Đã thoát game!\")\n",
        "                        return\n",
        "                    try:\n",
        "                        x, y = map(int, move.split())\n",
        "                        if 0 <= x < env.board_size and 0 <= y < env.board_size:\n",
        "                            action = x * env.board_size + y\n",
        "                            if action in env.get_valid_actions():\n",
        "                                valid_move = True\n",
        "                            else:\n",
        "                                print(\"Ô đã được chọn, thử lại!\")\n",
        "                        else:\n",
        "                            print(\"Tọa độ không hợp lệ (0-4), thử lại!\")\n",
        "                    except ValueError:\n",
        "                        print(\"Nhập sai định dạng, thử lại (ví dụ: '2 3')!\")\n",
        "                state, reward, done, _ = env.step(action)\n",
        "                env.render(clear_screen=True)\n",
        "                if done:\n",
        "                    if reward > 0:\n",
        "                        print(\"AI thắng!\")\n",
        "                    elif reward < 0:\n",
        "                        print(\"Bạn thắng!\")\n",
        "                    else:\n",
        "                        print(\"Hòa!\")\n",
        "                    break\n",
        "        play_again = input(\"Chơi lại? (y/n): \")\n",
        "        if play_again.lower() != 'y':\n",
        "            print(\"Cảm ơn bạn đã chơi!\")\n",
        "            break\n",
        "\n",
        "if __name__ == \"__main__\":\n",
        "    from train_evaluate import main\n",
        "    best_model, best_agent = main()\n",
        "    env = CaroEnv(verbose=False, board_size=5, win_length=3)\n",
        "    play_against_agent(best_agent, best_model, env)"
      ]
    }
  ]
}